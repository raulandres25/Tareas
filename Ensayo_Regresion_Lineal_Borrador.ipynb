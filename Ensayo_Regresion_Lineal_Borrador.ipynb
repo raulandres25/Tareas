{
 "cells": [
  {
   "cell_type": "markdown",
   "metadata": {},
   "source": [
    "# Regresión Lineal Simple"
   ]
  },
  {
   "cell_type": "markdown",
   "metadata": {
    "id": "XBWEiBXobHjO"
   },
   "source": [
    "## Introducción\n",
    "\n",
    "Con el pasar de los años el uso de una tecnica estadistica que permite establecer una relación lineal existente entre una o mas variables con una variable de interes, se ha vuelto mas frecuente. Campos como la economia, ciencias fisicas, quimica y biologicas, han sugerido buscar una tecnica que permita realizar esta relación. Para dar una idea, se plantea el siguiente ejemplo, el combustible que se consume un auto en un viaje se encuentra relacionada conforme este aumenta su velocidad, la relacion consumo-velocidad se ilustra de la siguiente manera, el grafico nos da una idea de conocer cual es la relación y de que caracter es.\n",
    "\n",
    "![Imagen](https://analisisderegresion.com/wp-content/uploads/2019/05/Graficadedispersi%C3%B3ndeCombustbilevsVelocidad.png) \n",
    "\n",
    "[Fuente](https://analisisderegresion.com/lineal/)\n",
    "\n",
    "La ilustración se genera a partir de graficar en un plano cartesiano cada uno de los puntos $(x,y)$ y se conoce como grafico de dispersión.  \n",
    "\n",
    "La tecnica de la **regresion lineal** permite establecer por medio de un modelo matematico aproximar una relación existente entre dos variables de estudio, se conoce como $Y$ como la variable dependiente y $X$ como la variable independiente. Para dar un inicio, el presente documento tiene como objetivo realizar un avistamiento sobre el modelo matemático que se establece usando la **regresión lineal**; a este se le hará una breve *reseña histórica* con el fin de comprender el razonamiento detrás de su concepción, luego se revisará el *procedimento del algoritmo* para visualizar su funcionamiento, más tarde ir a una *implementación* sobre un conjunto de datos de los cuales realizar este proceso resulte de utilidad, y finalmente, enumerar las conclusiones del trabajo evidenciado en este medio."
   ]
  },
  {
   "cell_type": "markdown",
   "metadata": {},
   "source": [
    "## Historia\n",
    "\n",
    "Castro, Gea, Cañadas y Contreras[(2012)](https://core.ac.uk/download/pdf/20343739.pdf), señalan que LambertAdolphe-Jacques Quetelet (1796-1874) fue el primer hombre que se intereso en las nociones de correlación y regresión, en sus estudios sobre las características del hombre promedio, teniendo en cuenta las medidas del cuerpo humano en las que suponia dependian de variables tales como sexo, edad y profesión, analizando los graficos de dispersión entre variables logro obtener a traves de una hiperbola la relación de la estatura y la edad entre 0 y 30 años. \n",
    "Otro personaje artifice de la regresión lineal, dedicado a los estudio geograficos y metereologicos para un periodico, Francis Galton(1822-1911,) sin tener las nociones teoricas de la epoca, realiza investigaciones de las caracteristicas del cuerpo, desarrollando empiricamente y de su autoria, metodos univariados y multivariados para explicar la utilidad y el concepto de la regresión y correlación, Castro, Gea, Cañadas y Contreras.  \n",
    "Las ideas sobre lo que esta fundamentado la teoria de la regresión actualmente, se desarrolla de las investigaciones realizadas por Legendre y Gauss, el metodo de minimos cuadrados que actualmentes es la base de la teoria, surgio de ajustar los datos sobre las órbitas de cuerpos celestes. Legendre(1752-1833), realizo el primer estudiio documentado de los minimos cuadrados, esta técnica de optimización intenta encontrar la función que mejor se ajusta a los datos bivariantes, de acuerdo con el criterio de mínimo error cuadrático, y siempre que los datos cumplan algunas condiciones (como independencia).\n"
   ]
  },
  {
   "cell_type": "markdown",
   "metadata": {},
   "source": [
    "## Alogritmo de Regresión Lineal Simple\n",
    "Se tiene el modelo de regresión lineal simple: \n",
    "\n",
    "\\begin{align*}\n",
    "    y=\\beta_0+\\beta_1 x + \\varepsilon\n",
    "\\end{align*}\n",
    "\n",
    "donde $\\beta_0$ y $\\beta_1$ son constantes desconocidas y $\\varepsilon$ es una componente aleatoria de error. Se supone que los errores tienen promedio cero y varianza $\\sigma^2$ desconocida, y no están correlacionados.\n",
    "\n",
    "\\begin{align*}\n",
    "    E(y|x)=\\beta_0+\\beta_1 x\n",
    "\\end{align*}\n",
    "y\n",
    "\\begin{align*}\n",
    "    Var(y|x)=&Var(\\beta_0+\\beta_1 x + \\varepsilon)\\\\\n",
    "    =&\\sigma^2\n",
    "\\end{align*}\n",
    "\n",
    "Estimación de los parámetros de regresión $\\beta_0$ y $\\beta_1$ por mínimos cuadrados. \n",
    "El modelo se puede escribir de la forma:\n",
    "\\begin{align*}\n",
    "    y_i=\\beta_0+\\beta_1 x_i+\\varepsilon_i \\hspace{2cm} i=1,2,3,..., n\n",
    "\\end{align*}\n",
    "La función que deseamos minimizar será la suma de los errores, es decir:\n",
    "\\begin{align*}\n",
    "S(\\beta_0,\\beta_1)=\\sum_{i=1}^n (y_i-\\beta_0-\\beta_1 x_i)^2\n",
    "\\end{align*}\n"
   ]
  },
  {
   "cell_type": "markdown",
   "metadata": {},
   "source": [
    "los estimadores deberán cumplir:\n",
    "\n",
    "\\begin{align*}\n",
    "\\frac{\\delta S}{\\delta \\beta_0}|_{\\hat{\\beta}_0,\\hat{\\beta}_1} = -2\\sum_{i=1}^n (y_i-\\hat{\\beta}_0-\\hat{\\beta}_1x_i)=0\\\\\n",
    "n\\hat{\\beta}_0+\\hat{\\beta}_1 \\sum_{i=1}^n x_i\n",
    "= \\sum_{i=1}^n y_i\n",
    "\\end{align*}\n",
    "\n",
    "\\begin{align*}\n",
    "\\frac{\\delta S}{\\delta \\beta_1}|_{\\hat{\\beta}_0,\\hat{\\beta}_1} = -2\\sum_{i=1}^n (y_i-\\hat{\\beta}_0-\\hat{\\beta}_1x_i)x_i=0\\\\\n",
    "\\hat{\\beta}_0\\sum_{i=1}^n x_i+\\hat{\\beta}_1 \\sum_{i=1}^n x_i^2= \\sum_{i=1}^n y_i x_i\n",
    "\\end{align*}\n",
    "\n"
   ]
  },
  {
   "cell_type": "markdown",
   "metadata": {},
   "source": [
    "donde\n",
    "\n",
    "\n",
    "\\begin{align*}\n",
    "    \\hat{\\beta}_1=\\frac{\\sum_{i=1}^nx_iy_i-\\frac{\\left(\\sum_{i=1}^ny_i\\right)\\left(\\sum_{i=1}^nx_i\\right)}{n}}{\\sum_{i=1}^n x_i^2-\\frac{\\left(\\sum_{i=1}^nx_i\\right)^2}{n}}\n",
    "\\end{align*}\n",
    "\n",
    "Obteniendo las estimaciones de los parámetros se tiene que el modelo ajustado de regresión lineal simple será\n",
    "\n",
    "\\begin{align*}\n",
    "    \\hat{y}=\\hat{\\beta}_0+\\hat{\\beta}_1 + \\epsilon\n",
    "\\end{align*}\n",
    "\n",
    "[Algoritmo de Regresión](http://libgen.li/item/index.php?md5=0F4971579F1B45619990EC31C0829794)\n"
   ]
  },
  {
   "cell_type": "markdown",
   "metadata": {},
   "source": [
    "## Ejemplo de regresión Lineal Simple\n",
    "\n",
    "\n",
    "La siguiente base contiene la lista de los libros mas consultados de la plataforma Amazon. La base contiene los siguientes campos:\n",
    "- **Title:** Titulo del libro.\n",
    "- **Author:** Autor del libro.\n",
    "- **List Price:** Precio de Catalogo.\n",
    "- **Amazon Price:** Precio de Amazon.\n",
    "- **Hard/ Paper:** Tipo de Cubierta.\n",
    "- **NumPages:** Numero de paginas.\n",
    "- **Publisher:** Editorial.\n",
    "- **Pub year:** Año de publicación.\n",
    "- **ISBN-10:** Codigo unico de publicación.\n",
    "- **Height:** Altura.\n",
    "- **Width:** Ancho.\n",
    "- **Thick:** Grosor.\n",
    "- **Weight (oz)**: Peso.\n",
    "\n",
    "Donde la respuesta a contestar es si los precios ofertado por Amazon se encuentra acorde a los precios ofrecidos por catalogo. \n",
    "\n",
    "[Fuente de datos](https://dasl.datadescription.com/datafile/amazon-books/?_sfm_methods=Regression&_sfm_cases=4+59943)"
   ]
  },
  {
   "cell_type": "code",
   "execution_count": 68,
   "metadata": {},
   "outputs": [
    {
     "data": {
      "text/html": [
       "<div>\n",
       "<style scoped>\n",
       "    .dataframe tbody tr th:only-of-type {\n",
       "        vertical-align: middle;\n",
       "    }\n",
       "\n",
       "    .dataframe tbody tr th {\n",
       "        vertical-align: top;\n",
       "    }\n",
       "\n",
       "    .dataframe thead th {\n",
       "        text-align: right;\n",
       "    }\n",
       "</style>\n",
       "<table border=\"1\" class=\"dataframe\">\n",
       "  <thead>\n",
       "    <tr style=\"text-align: right;\">\n",
       "      <th></th>\n",
       "      <th>Title</th>\n",
       "      <th>Author</th>\n",
       "      <th>List Price</th>\n",
       "      <th>Amazon Price</th>\n",
       "      <th>Hard/ Paper</th>\n",
       "      <th>NumPages</th>\n",
       "      <th>Publisher</th>\n",
       "      <th>Pub year</th>\n",
       "      <th>ISBN-10</th>\n",
       "      <th>Height</th>\n",
       "      <th>Width</th>\n",
       "      <th>Thick</th>\n",
       "      <th>Weight (oz)</th>\n",
       "    </tr>\n",
       "  </thead>\n",
       "  <tbody>\n",
       "    <tr>\n",
       "      <th>0</th>\n",
       "      <td>1,001 Facts that Will Scare the S#*t Out of Yo...</td>\n",
       "      <td>Cary McNeal</td>\n",
       "      <td>12.95</td>\n",
       "      <td>5.18</td>\n",
       "      <td>P</td>\n",
       "      <td>304.0</td>\n",
       "      <td>Adams Media</td>\n",
       "      <td>2010.0</td>\n",
       "      <td>1605506249</td>\n",
       "      <td>7.8</td>\n",
       "      <td>5.5</td>\n",
       "      <td>0.8</td>\n",
       "      <td>11.2</td>\n",
       "    </tr>\n",
       "    <tr>\n",
       "      <th>1</th>\n",
       "      <td>21: Bringing Down the House - Movie Tie-In: Th...</td>\n",
       "      <td>Ben Mezrich</td>\n",
       "      <td>15.00</td>\n",
       "      <td>10.20</td>\n",
       "      <td>P</td>\n",
       "      <td>273.0</td>\n",
       "      <td>Free Press</td>\n",
       "      <td>2008.0</td>\n",
       "      <td>1416564195</td>\n",
       "      <td>8.4</td>\n",
       "      <td>5.5</td>\n",
       "      <td>0.7</td>\n",
       "      <td>7.2</td>\n",
       "    </tr>\n",
       "    <tr>\n",
       "      <th>2</th>\n",
       "      <td>100 Best-Loved Poems (Dover Thrift Editions)</td>\n",
       "      <td>Smith</td>\n",
       "      <td>1.50</td>\n",
       "      <td>1.50</td>\n",
       "      <td>P</td>\n",
       "      <td>96.0</td>\n",
       "      <td>Dover Publications</td>\n",
       "      <td>1995.0</td>\n",
       "      <td>486285537</td>\n",
       "      <td>8.3</td>\n",
       "      <td>5.2</td>\n",
       "      <td>0.3</td>\n",
       "      <td>4.0</td>\n",
       "    </tr>\n",
       "    <tr>\n",
       "      <th>3</th>\n",
       "      <td>1421: The Year China Discovered America</td>\n",
       "      <td>Gavin Menzies</td>\n",
       "      <td>15.99</td>\n",
       "      <td>10.87</td>\n",
       "      <td>P</td>\n",
       "      <td>672.0</td>\n",
       "      <td>Harper Perennial</td>\n",
       "      <td>2008.0</td>\n",
       "      <td>61564893</td>\n",
       "      <td>8.8</td>\n",
       "      <td>6.0</td>\n",
       "      <td>1.6</td>\n",
       "      <td>28.8</td>\n",
       "    </tr>\n",
       "    <tr>\n",
       "      <th>4</th>\n",
       "      <td>1493: Uncovering the New World Columbus Created</td>\n",
       "      <td>Charles C. Mann</td>\n",
       "      <td>30.50</td>\n",
       "      <td>16.77</td>\n",
       "      <td>P</td>\n",
       "      <td>720.0</td>\n",
       "      <td>Knopf</td>\n",
       "      <td>2011.0</td>\n",
       "      <td>307265722</td>\n",
       "      <td>8.0</td>\n",
       "      <td>5.2</td>\n",
       "      <td>1.4</td>\n",
       "      <td>22.4</td>\n",
       "    </tr>\n",
       "  </tbody>\n",
       "</table>\n",
       "</div>"
      ],
      "text/plain": [
       "                                               Title           Author  \\\n",
       "0  1,001 Facts that Will Scare the S#*t Out of Yo...      Cary McNeal   \n",
       "1  21: Bringing Down the House - Movie Tie-In: Th...      Ben Mezrich   \n",
       "2       100 Best-Loved Poems (Dover Thrift Editions)            Smith   \n",
       "3            1421: The Year China Discovered America    Gavin Menzies   \n",
       "4    1493: Uncovering the New World Columbus Created  Charles C. Mann   \n",
       "\n",
       "   List Price  Amazon Price Hard/ Paper  NumPages           Publisher  \\\n",
       "0       12.95          5.18           P     304.0         Adams Media   \n",
       "1       15.00         10.20           P     273.0          Free Press   \n",
       "2        1.50          1.50           P      96.0  Dover Publications   \n",
       "3       15.99         10.87           P     672.0    Harper Perennial   \n",
       "4       30.50         16.77           P     720.0               Knopf   \n",
       "\n",
       "   Pub year     ISBN-10  Height  Width  Thick  Weight (oz)  \n",
       "0    2010.0  1605506249     7.8    5.5    0.8         11.2  \n",
       "1    2008.0  1416564195     8.4    5.5    0.7          7.2  \n",
       "2    1995.0   486285537     8.3    5.2    0.3          4.0  \n",
       "3    2008.0    61564893     8.8    6.0    1.6         28.8  \n",
       "4    2011.0   307265722     8.0    5.2    1.4         22.4  "
      ]
     },
     "execution_count": 68,
     "metadata": {},
     "output_type": "execute_result"
    }
   ],
   "source": [
    "#Cargar datos desde un csv\n",
    "import numpy as np\n",
    "import pandas as pd\n",
    "data = pd.read_csv(r'E:\\Cosas de Andres\\Especializacion en Estadistica\\Mineria de datos\\amazon-books.csv',sep=\";\")\n",
    "data.head()\n",
    "data=pd.DataFrame(data)\n",
    "pd.set_option('display.max_rows', None)\n",
    "pd.set_option('display.max_columns', None)\n",
    "data = data.dropna(subset=['List Price','Amazon Price', 'NumPages','Weight (oz)','Thick'])\n",
    "data.head()\n"
   ]
  },
  {
   "cell_type": "code",
   "execution_count": 77,
   "metadata": {},
   "outputs": [
    {
     "name": "stdout",
     "output_type": "stream",
     "text": [
      "(314, 1)\n",
      "(314, 1)\n"
     ]
    }
   ],
   "source": [
    "Y_data = np.array(data[\"Amazon Price\"])\n",
    "m = Y_data.shape[0]\n",
    "Y_data = Y_data.reshape(m, 1)\n",
    "print(Y_data.shape)\n",
    "X_data = np.array(data['List Price'])\n",
    "X_data = X_data.reshape(m, 1)\n",
    "print(X_data.shape)\n"
   ]
  },
  {
   "cell_type": "code",
   "execution_count": 78,
   "metadata": {},
   "outputs": [],
   "source": [
    "#Ejemplo regresión lineal usando scikitlearn\n",
    "\n",
    "from sklearn.linear_model import LinearRegression\n",
    "from sklearn.metrics import mean_squared_error, r2_score\n",
    "import matplotlib.pyplot as plt\n",
    "#%matplotlib inline\n",
    "\n",
    "X= X_data\n",
    "Y= Y_data\n",
    "\n",
    "# Regresor lineal\n",
    "modelo = LinearRegression()\n",
    "# Se entrena el modelo con los datos\n",
    "modelo.fit(X, Y)\n",
    "\n",
    "# Una vez ha sido entrenado, se puede calcular el resultado\n",
    "# para una nueva entrada\n",
    "Y_prediccion = modelo.predict(X)"
   ]
  },
  {
   "cell_type": "code",
   "execution_count": 79,
   "metadata": {},
   "outputs": [
    {
     "name": "stdout",
     "output_type": "stream",
     "text": [
      "Coefficients: \n",
      " [[0.83025734]]\n",
      "Independent term: \n",
      " [-2.33709597]\n",
      "Mean squared error: 12.37\n",
      "Variance score: 0.91\n"
     ]
    }
   ],
   "source": [
    "# Veamos los coeficienetes obtenidos, En nuestro caso, serán la Tangente\n",
    "print('Coefficients: \\n', modelo.coef_)\n",
    "# Este es el valor donde corta el eje Y (en X=0)\n",
    "print('Independent term: \\n', modelo.intercept_)\n",
    "# Error Cuadrado Medio\n",
    "print(\"Mean squared error: %.2f\" % mean_squared_error(Y, Y_prediccion))\n",
    "# Puntaje de Varianza. El mejor puntaje es un 1.0\n",
    "print('Variance score: %.2f' % r2_score(Y, Y_prediccion))"
   ]
  },
  {
   "cell_type": "code",
   "execution_count": 82,
   "metadata": {},
   "outputs": [
    {
     "data": {
      "image/png": "[encoded data removed]",
      "text/plain": [
       "<Figure size 432x288 with 1 Axes>"
      ]
     },
     "metadata": {
      "needs_background": "light"
     },
     "output_type": "display_data"
    }
   ],
   "source": [
    "#Genera un gráfico de dispersion\n",
    "plt.scatter(X, Y, color = \"red\")\n",
    "#Toma los valores coef e intercept_ de modelo para crear la recta\n",
    "plt.plot(X, Y_prediccion, color = \"blue\")\n",
    "plt.title(\"Amazon Price vs 'List Price'\")\n",
    "plt.xlabel(\"'List Price'\")\n",
    "plt.ylabel(\"Amazon Price\")\n",
    "plt.show()"
   ]
  },
  {
   "cell_type": "markdown",
   "metadata": {},
   "source": [
    "Finalmente se obtiene un modelo de la forma $\\hat Y=-2.337+0.83X$, donde el $\\beta_1 = 0.83$, es el coificiente de la variable independiente que en este caso es \"precio por catalogo\" y $\\beta_0=-2.337$ que representa el termino independiente. Ademas notamos que el modelo encontrado tiene un $R^2=0.91$, lo que indica un buen ajuste del modelo de los datos y esto nos lo corrabora el error cuadratico medio que es de $12.37$.\n",
    "\n",
    "[Codigo fuente](https://www.aprendemachinelearning.com/regresion-lineal-en-espanol-con-python/)"
   ]
  },
  {
   "cell_type": "markdown",
   "metadata": {},
   "source": [
    "## Conclusiones"
   ]
  },
  {
   "cell_type": "markdown",
   "metadata": {},
   "source": [
    "La tecnica de regresión lineal simple es una herramienta muy poderosa y sencilla de entender, lo que facilita que sea aplicable a muchos campos de estudio, ademas representa el inicio de tecnicas estadisticas mas elaboradas basadas en el concepto de la regresión, por ejemplo las tecnicas parametricas como los modelos lineales generalizados y tecnicas no parametricas tales como los modelos de machine learning."
   ]
  }
 ],
 "metadata": {
  "colab": {
   "collapsed_sections": [],
   "name": "Ensayo_Regresion_Lineal_Borrador.ipynb",
   "provenance": []
  },
  "kernelspec": {
   "display_name": "Python 3",
   "language": "python",
   "name": "python3"
  },
  "language_info": {
   "codemirror_mode": {
    "name": "ipython",
    "version": 3
   },
   "file_extension": ".py",
   "mimetype": "text/x-python",
   "name": "python",
   "nbconvert_exporter": "python",
   "pygments_lexer": "ipython3",
   "version": "3.7.4"
  }
 },
 "nbformat": 4,
 "nbformat_minor": 4
}
